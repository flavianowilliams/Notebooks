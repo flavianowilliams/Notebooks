{
 "cells": [
  {
   "cell_type": "markdown",
   "metadata": {},
   "source": [
    "# Neste notebook faremos a simulação por dinâmica molecular do gás argônio superfluido à 94 K e 1 atm."
   ]
  },
  {
   "cell_type": "markdown",
   "metadata": {},
   "source": [
    "Antes de dar início à simulação, deveremos instalar o pacote M3L responsável pela dinâmica molecular. Descomente a linha abaixo caso ele ainda não foi instalado no seu ambiente virtual."
   ]
  },
  {
   "cell_type": "code",
   "execution_count": 1,
   "metadata": {},
   "outputs": [],
   "source": [
    "#pip install -i https://test.pypi.org/simple/ m3l --extra-index-url https://pypi.org/simple/"
   ]
  },
  {
   "cell_type": "code",
   "execution_count": 2,
   "metadata": {},
   "outputs": [],
   "source": [
    "# consumo inicial de memoria\n",
    "import psutil\n",
    "mem = psutil.virtual_memory().used"
   ]
  },
  {
   "cell_type": "markdown",
   "metadata": {},
   "source": [
    "## Etapa 1\n",
    "O primeiro passo consiste em definirmos o sistema físico contendo as coordenadas atômicas. Descomente as cinco primeiras linhas abaixo para fazer o download do arquivo \"Ar_94K_1atm.json\"."
   ]
  },
  {
   "cell_type": "code",
   "execution_count": 2,
   "metadata": {
    "scrolled": true
   },
   "outputs": [
    {
     "name": "stdout",
     "output_type": "stream",
     "text": [
      "[[2 1]]\n"
     ]
    }
   ],
   "source": [
    "#url = 'https://raw.githubusercontent.com/flavianowilliams/M3L/development/src/notebooks/argon/Ar_94K_1atm.json'\n",
    "#from urllib.request import urlopen\n",
    "#\n",
    "#file = urlopen(url)\n",
    "#\n",
    "#with open('Ar_94K_1atm.json','wb') as output:\n",
    "#  output.write(file.read())\n",
    "#\n",
    "# carregando sistema físico\n",
    "from m3l.structure import System as sys\n",
    "import json\n",
    "#\n",
    "system = sys()\n",
    "system.loadSystem('system_teste.json')\n",
    "#\n",
    "# convertendo as unidades de medida\n",
    "system.convertUnits()\n",
    "print(system.molecule)"
   ]
  },
  {
   "cell_type": "markdown",
   "metadata": {},
   "source": [
    "## Etapa 2\n",
    "O segundo passo consiste em definirmos o modelo para o campo de força. Neste caso consideraremos uma molécula contendo apenas um sítio atômico com interações intermoleculares do tipo Van der Waals representado pela função Lennard-Jones de dois parâmetros, como mostra a figura abaixo.\n",
    "![lennard-jones](../contrib/lennard-jones.jpeg)"
   ]
  },
  {
   "cell_type": "code",
   "execution_count": 4,
   "metadata": {},
   "outputs": [
    {
     "data": {
      "text/plain": [
       "array([[2.07869874e+01, 2.07869874e+01, 0.00000000e+00, 0.00000000e+00],\n",
       "       [1.00000000e+00, 0.00000000e+00, 3.80200013e-04, 6.42506883e+00]])"
      ]
     },
     "execution_count": 4,
     "metadata": {},
     "output_type": "execute_result"
    }
   ],
   "source": [
    "# definindo o modelo de interação entre os átomos (campo de força)      \n",
    "import m3l.force_field as ff\n",
    "from m3l.force_field import Intermolecular as interff\n",
    "class Forces(ff.ForceField):\n",
    "    def __init__(self):\n",
    "        super().__init__()\n",
    "        self.structure(\n",
    "            self.molecule(\n",
    "                interff.site(1, 0.0, 0.0, 3.4), #site ID, atomic charge, Lennard-Jones parameters\n",
    "            )\n",
    "        )\n",
    "        self.intermolecular(rvdw = 11.0, rcoul = 11.0)\n",
    "#        \n",
    "model = Forces()\n",
    "model()"
   ]
  },
  {
   "cell_type": "markdown",
   "metadata": {},
   "source": [
    "## Etapa 3\n",
    "O terceiro passo consiste em definir o modelo estatístico (ensemble canônico) que descreverá o sistema no equilíbrio termodinâmico."
   ]
  },
  {
   "cell_type": "code",
   "execution_count": 5,
   "metadata": {
    "scrolled": true
   },
   "outputs": [],
   "source": [
    "# definindo o modelo estatístico (ensemble)\n",
    "from m3l.molecular_dynamics import Ensemble as en\n",
    "#\n",
    "force_field = model()\n",
    "ensemble = en(temp_bath = 94.0, press_bath = 1.0, timestep = 1.0e-3, force_field = force_field, pstat = 1.0, tstat = 1.0)\n",
    "system = ensemble(system)"
   ]
  },
  {
   "cell_type": "markdown",
   "metadata": {},
   "source": [
    "## Etapa 4\n",
    "O quarto passo consiste na dinâmica molecular, onde as coordenadas atômicas são recalculadas a cada passo da simulação em intervalos de tempo denominado de timestep."
   ]
  },
  {
   "cell_type": "code",
   "execution_count": 6,
   "metadata": {
    "scrolled": true
   },
   "outputs": [
    {
     "name": "stdout",
     "output_type": "stream",
     "text": [
      "Elapsed time: 0.0 seconds\n"
     ]
    }
   ],
   "source": [
    "# Etapa 4\n",
    "# executando ciclo MD\n",
    "import time\n",
    "#\n",
    "# executando looping\n",
    "n_steps = 10\n",
    "i_step = 0\n",
    "start = time.time()\n",
    "for step in range(n_steps):\n",
    "    system = ensemble(system)\n",
    "end = time.time()\n",
    "print(f'Elapsed time: {round(end - start, 0)} seconds')"
   ]
  },
  {
   "cell_type": "markdown",
   "metadata": {},
   "source": [
    "## Etapa 5\n",
    "Esta etapa é opcional, onde o autor poderá salvar em um arquivo JSON o sistema físico obtido no final da simulação. Como opção, o autor poderá converter as unidades de medida em valores mais convenientes para a leitura e melhor interpretação do ponto de vista didático."
   ]
  },
  {
   "cell_type": "code",
   "execution_count": 7,
   "metadata": {},
   "outputs": [],
   "source": [
    "# Etapa opcional\n",
    "# convertendo para as unidades de medida de entrada\n",
    "system.convertUnitsInv()\n",
    "#\n",
    "# salvando sistema em arquivo JSON\n",
    "system.save('teste.json')"
   ]
  },
  {
   "cell_type": "code",
   "execution_count": 8,
   "metadata": {},
   "outputs": [
    {
     "name": "stdout",
     "output_type": "stream",
     "text": [
      "10 MB\n"
     ]
    }
   ],
   "source": [
    "# Etapa opcional\n",
    "# visualizando o consumo de memória RAM\n",
    "mem = psutil.virtual_memory().used - mem\n",
    "print(f'{mem/1.e6:.0f} MB')"
   ]
  },
  {
   "cell_type": "markdown",
   "metadata": {},
   "source": [
    "Algumas propriedades termodinâmicas do sistema físico poderão ser lidas através dos atributos do objeto system."
   ]
  },
  {
   "cell_type": "code",
   "execution_count": 9,
   "metadata": {},
   "outputs": [
    {
     "name": "stdout",
     "output_type": "stream",
     "text": [
      "Propriedade               Valor                     Unidade                  \n",
      "---------------------------------------------------------------------------\n",
      "Energia potencial         -394.21344937461265       kcal/mol                 \n",
      "Energia cinética          69.69481912086562         kcal/mol                 \n",
      "Temperatura               93.93153317514047         Kelvin                   \n",
      "Pressão                   45.58333056015907         atmosfera                \n",
      "Volume                    11146.75314406501         Angstrom³                \n"
     ]
    }
   ],
   "source": [
    "# Etapa opcional\n",
    "# Obtendo variáveis termodinâmicas do sistema\n",
    "header = ['Propriedade', 'Valor', 'Unidade']\n",
    "print(f\"{header[0]:<25} {header[1]:<25} {header[2]:<25}\")\n",
    "print(\"-\"*75)\n",
    "propriedade = ['Energia potencial', 'Energia cinética', 'Temperatura', 'Pressão', 'Volume']\n",
    "unidade = [r'kcal/mol', 'kcal/mol', 'Kelvin', 'atmosfera', 'Angstrom³']\n",
    "valor = [system.epotential, system.ekinetic, system.temperature, system.pressure, system.volume]\n",
    "#\n",
    "for i in range(len(propriedade)):\n",
    "    print(f\"{propriedade[i]:<25} {valor[i]:<25} {unidade[i]:<25}\")"
   ]
  },
  {
   "cell_type": "code",
   "execution_count": 10,
   "metadata": {},
   "outputs": [],
   "source": [
    "# limpando memória RAM\n",
    "del model\n",
    "del ensemble\n",
    "del system"
   ]
  }
 ],
 "metadata": {
  "kernelspec": {
   "display_name": "Python 3 (ipykernel)",
   "language": "python",
   "name": "python3"
  },
  "language_info": {
   "codemirror_mode": {
    "name": "ipython",
    "version": 3
   },
   "file_extension": ".py",
   "mimetype": "text/x-python",
   "name": "python",
   "nbconvert_exporter": "python",
   "pygments_lexer": "ipython3",
   "version": "3.13.3"
  }
 },
 "nbformat": 4,
 "nbformat_minor": 4
}
