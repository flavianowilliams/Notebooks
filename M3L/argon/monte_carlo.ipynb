{
 "cells": [
  {
   "cell_type": "code",
   "execution_count": 1,
   "id": "67991b97-70ba-4fea-a6f2-b0232f7efb70",
   "metadata": {},
   "outputs": [],
   "source": [
    "from m3l.structure import System as sys\n",
    "import json\n",
    "#\n",
    "system = sys()\n",
    "system.loadSystem('system_teste.json')\n",
    "system.convertUnits()"
   ]
  },
  {
   "cell_type": "code",
   "execution_count": 2,
   "id": "ff85fa3e-8fa0-40da-a9c0-00a60049bed1",
   "metadata": {},
   "outputs": [
    {
     "data": {
      "text/plain": [
       "array([[1.00000000e+00, 3.79562361e-04, 6.43451746e+00]])"
      ]
     },
     "execution_count": 2,
     "metadata": {},
     "output_type": "execute_result"
    }
   ],
   "source": [
    "# definindo o modelo de interação entre os átomos (campo de força)\n",
    "from m3l.molecular_dynamics import ForceField\n",
    "class Forces(ForceField):\n",
    "    def __init__(self):\n",
    "        super().__init__()\n",
    "        self.van_der_waals(\n",
    "            (1, 0.2381*self.ECONV, 3.405*self.ACONV)\n",
    "        )\n",
    "model = Forces()\n",
    "model()"
   ]
  },
  {
   "cell_type": "code",
   "execution_count": null,
   "id": "8cfb18e8-b387-45d4-a52b-3da8194472cc",
   "metadata": {},
   "outputs": [],
   "source": [
    "# definindo o modelo estatístico (ensemble)\n",
    "from m3l.statistics import MonteCarlo as mc\n",
    "#\n",
    "temperature = 100\n",
    "temperature = temperature*system.TEMPCONV\n",
    "pressure = 1000.0\n",
    "pressure = pressure*system.PCONV\n",
    "drmax=1.0*system.ACONV\n",
    "dvmax=0.0*system.ACONV**3\n",
    "force_field = model()\n",
    "monte_carlo = mc(temperature, pressure, drmax, dvmax, force_field, nadjst = 500)\n",
    "system = monte_carlo(system)\n",
    "#print(system.epotential, tmp.epotential)"
   ]
  },
  {
   "cell_type": "code",
   "execution_count": null,
   "id": "44585e45-745a-4ab2-a4a2-737cbf07b97c",
   "metadata": {},
   "outputs": [],
   "source": [
    "# executando looping\n",
    "import time\n",
    "import csv\n",
    "#\n",
    "n_steps = 1000\n",
    "output = []\n",
    "drmax = []\n",
    "indx = 0\n",
    "start = time.time()\n",
    "with open('history.csv', 'w', newline = '') as csvfile1, open('thermodynamics.csv', 'w', newline = '') as csvfile2:\n",
    "    fieldnames1 = ['x', 'y', 'z']\n",
    "    writer1 = csv.DictWriter(csvfile1, fieldnames = fieldnames1)\n",
    "    writer1.writeheader()\n",
    "    fieldnames2 = ['step', 'energy', 'volume']\n",
    "    writer2 = csv.DictWriter(csvfile2, fieldnames = fieldnames2)\n",
    "    writer2.writeheader()\n",
    "    for step in range(n_steps):\n",
    "        chk1 = monte_carlo.naccpt\n",
    "        system = monte_carlo(system)\n",
    "        chk2 = monte_carlo.naccpt\n",
    "        drmax.append(monte_carlo.drmax)\n",
    "        if chk2 != chk1:\n",
    "            volume = system.cell[0]*system.cell[1]*system.cell[2]\n",
    "            volume = volume*system.ACONV**3\n",
    "            energy = system.epotential*system.ECONV\n",
    "            writer2.writerow({\n",
    "                'step': step,\n",
    "                'energy': energy,\n",
    "                'volume': volume})\n",
    "            for atom in system.atoms:\n",
    "                writer1.writerow({\n",
    "                    'x': atom[1]*system.ACONV,\n",
    "                    'y': atom[2]*system.ACONV,\n",
    "                    'z': atom[3]*system.ACONV})\n",
    "            output.append([energy, volume])\n",
    "            indx += 1\n",
    "#        print(f'i: {step}; energy: {system.energy*system.ECONV}')\n",
    "end = time.time()\n",
    "print(f'Elapsed time: {end - start}')\n",
    "print(f'i_step:', indx)"
   ]
  },
  {
   "cell_type": "code",
   "execution_count": null,
   "id": "b31e7fcf-ca27-4542-90b5-f9ca43f8e0a7",
   "metadata": {},
   "outputs": [],
   "source": [
    "# \n",
    "import matplotlib.pyplot as plt\n",
    "import numpy as np\n",
    "x = np.arange(0, n_steps)\n",
    "plt.plot(x, drmax)\n",
    "plt.xlabel('Passo')\n",
    "plt.ylabel('drmax')"
   ]
  },
  {
   "cell_type": "code",
   "execution_count": null,
   "id": "5f6e4ca5-d5ac-4ccf-b2a9-f10aea74a678",
   "metadata": {},
   "outputs": [],
   "source": [
    "x = np.arange(0, indx)\n",
    "fig, axs = plt.subplots(2, 1)\n",
    "data = [item[0] for item in output]\n",
    "axs[0].plot(x, data)\n",
    "#axs[0, 0] = plt.ylabel('Energia (kcal/mol)')\n",
    "#axs[0, 0] = plt.xlabel('Passo')\n",
    "axs[1].hist(data)\n",
    "#axs[0, 0] = plt.savefig('monte_carlo.jpg')"
   ]
  },
  {
   "cell_type": "code",
   "execution_count": null,
   "id": "b2175c37-323b-4dfd-a097-12c1d3a72593",
   "metadata": {},
   "outputs": [],
   "source": [
    "fig, axis = plt.subplots(2, 1)\n",
    "data = [item[1] for item in output]\n",
    "axis[0].plot(x, data)\n",
    "axis[1].hist(data)"
   ]
  },
  {
   "cell_type": "code",
   "execution_count": null,
   "id": "a9a72c04-e5aa-42d7-acfa-22ed7a9a8a48",
   "metadata": {},
   "outputs": [],
   "source": [
    "system.convertUnitsInv()\n",
    "system.save('system_teste.json')"
   ]
  }
 ],
 "metadata": {
  "kernelspec": {
   "display_name": "Python 3 (ipykernel)",
   "language": "python",
   "name": "python3"
  },
  "language_info": {
   "codemirror_mode": {
    "name": "ipython",
    "version": 3
   },
   "file_extension": ".py",
   "mimetype": "text/x-python",
   "name": "python",
   "nbconvert_exporter": "python",
   "pygments_lexer": "ipython3",
   "version": "3.13.3"
  }
 },
 "nbformat": 4,
 "nbformat_minor": 5
}
